{
  "nbformat": 4,
  "nbformat_minor": 0,
  "metadata": {
    "colab": {
      "provenance": []
    },
    "kernelspec": {
      "name": "python3",
      "display_name": "Python 3"
    },
    "language_info": {
      "name": "python"
    }
  },
  "cells": [
    {
      "cell_type": "code",
      "source": [
        "def is_distributable(idlis_held):\n",
        "  \"\"\"\n",
        "  Checks if it's possible to distribute idlis such that everyone has an even number.\n",
        "\n",
        "  Args:\n",
        "      idlis_held: A list representing the number of idlis each person already holds.\n",
        "\n",
        "  Returns:\n",
        "      True if distribution is possible, False otherwise.\n",
        "  \"\"\"\n",
        "  total_odd_idlis = sum(idli % 2 for idli in idlis_held)\n",
        "  return total_odd_idlis % 2 == 0  # Even total odd idlis means distributable\n"
      ],
      "metadata": {
        "id": "grsakkjWEEkH"
      },
      "execution_count": 44,
      "outputs": []
    },
    {
      "cell_type": "code",
      "execution_count": 45,
      "metadata": {
        "id": "rrqlvWr6D7VI"
      },
      "outputs": [],
      "source": [
        "def min_idlis_recursive(idlis_held, index):\n",
        "  \"\"\"\n",
        "  Recursively finds the minimum number of idlis needed for distribution (not recommended for efficiency).\n",
        "\n",
        "  Args:\n",
        "      idlis_held: A list representing the number of idlis each person already holds.\n",
        "      index: The current index in the list.\n",
        "\n",
        "  Returns:\n",
        "      The minimum number of idlis needed, or -1 if impossible.\n",
        "  \"\"\"\n",
        "  # Base cases:\n",
        "  if not is_distributable(idlis_held):\n",
        "    return -1\n",
        "  if index >= len(idlis_held):\n",
        "    return 0  # Reached the end, everyone has even idlis (0 needed)\n",
        "  if idlis_held[index] % 2 == 1:\n",
        "    # Current person has odd idlis, need to distribute at least once\n",
        "    idlis_held[index] += 1\n",
        "    idlis_held[index + 1] += 1\n",
        "    return 2 + min_idlis_recursive(idlis_held, index + 1) # Distribute with next person\n",
        "  else:\n",
        "    # Current person has even idlis, continue checking\n",
        "    return min_idlis_recursive(idlis_held, index + 1)\n",
        "\n",
        "\n",
        "\n"
      ]
    },
    {
      "cell_type": "code",
      "source": [
        "#TestCase1\n",
        "idlis_held = [2, 3, 4, 6, 4, 3]\n",
        "min_idlis = min_idlis_recursive(idlis_held, 0)\n",
        "\n",
        "if min_idlis == -1:\n",
        "  print(\"It's impossible to distribute idlis such that everyone has an even number.\")\n",
        "else:\n",
        "  print(f\"Minimum number of idlis to distribute: {min_idlis}\")\n",
        ""
      ],
      "metadata": {
        "colab": {
          "base_uri": "https://localhost:8080/"
        },
        "id": "db9vPCubEEl8",
        "outputId": "0ec72a2c-b24c-4b82-b338-00fee5e134a2"
      },
      "execution_count": 46,
      "outputs": [
        {
          "output_type": "stream",
          "name": "stdout",
          "text": [
            "Minimum number of idlis to distribute: 8\n"
          ]
        }
      ]
    },
    {
      "cell_type": "code",
      "source": [
        "# TestCase2\n",
        "idlis_held = []\n",
        "min_idlis = min_idlis_recursive(idlis_held, 0)\n",
        "\n",
        "if min_idlis == -1:\n",
        "  print(\"It's impossible to distribute idlis such that everyone has an even number.\")\n",
        "else:\n",
        "  print(f\"Minimum number of idlis to distribute: {min_idlis}\")\n"
      ],
      "metadata": {
        "colab": {
          "base_uri": "https://localhost:8080/"
        },
        "id": "pnh4VMmnKpbW",
        "outputId": "2afd78ab-46bc-46cc-9af0-d05a092c853e"
      },
      "execution_count": 47,
      "outputs": [
        {
          "output_type": "stream",
          "name": "stdout",
          "text": [
            "Minimum number of idlis to distribute: 0\n"
          ]
        }
      ]
    },
    {
      "cell_type": "code",
      "source": [
        "#TestCase#3\n",
        "idlis_held = [2]\n",
        "min_idlis = min_idlis_recursive(idlis_held, 0)\n",
        "\n",
        "if min_idlis == -1:\n",
        "  print(\"It's impossible to distribute idlis such that everyone has an even number.\")\n",
        "else:\n",
        "  print(f\"Minimum number of idlis to distribute: {min_idlis}\")\n",
        ""
      ],
      "metadata": {
        "colab": {
          "base_uri": "https://localhost:8080/"
        },
        "id": "OCEYz0cUK1t1",
        "outputId": "3c4e8353-14f9-4129-b8fa-14efdfa29ebf"
      },
      "execution_count": 48,
      "outputs": [
        {
          "output_type": "stream",
          "name": "stdout",
          "text": [
            "Minimum number of idlis to distribute: 0\n"
          ]
        }
      ]
    },
    {
      "cell_type": "code",
      "source": [
        "idlis_held = [7]\n",
        "min_idlis = min_idlis_recursive(idlis_held, 0)\n",
        "\n",
        "if min_idlis == -1:\n",
        "  print(\"It's impossible to distribute idlis such that everyone has an even number.\")\n",
        "else:\n",
        "  print(f\"Minimum number of idlis to distribute: {min_idlis}\")\n",
        ""
      ],
      "metadata": {
        "colab": {
          "base_uri": "https://localhost:8080/"
        },
        "id": "NNNJmgDCK5il",
        "outputId": "46d1fa0b-f895-4439-a3fd-7f1950d7028a"
      },
      "execution_count": 49,
      "outputs": [
        {
          "output_type": "stream",
          "name": "stdout",
          "text": [
            "It's impossible to distribute idlis such that everyone has an even number.\n"
          ]
        }
      ]
    },
    {
      "cell_type": "code",
      "source": [
        "idlis_held = [3, 3]\n",
        "min_idlis = min_idlis_recursive(idlis_held, 0)\n",
        "\n",
        "if min_idlis == -1:\n",
        "  print(\"It's impossible to distribute idlis such that everyone has an even number.\")\n",
        "else:\n",
        "  print(f\"Minimum number of idlis to distribute: {min_idlis}\")\n"
      ],
      "metadata": {
        "colab": {
          "base_uri": "https://localhost:8080/"
        },
        "id": "MRSm8z1QK_PO",
        "outputId": "06c97346-93bf-41dd-97a4-9368a416050e"
      },
      "execution_count": 50,
      "outputs": [
        {
          "output_type": "stream",
          "name": "stdout",
          "text": [
            "Minimum number of idlis to distribute: 2\n"
          ]
        }
      ]
    },
    {
      "cell_type": "code",
      "source": [
        "idlis_held = [3, 3, 3, 3]\n",
        "min_idlis = min_idlis_recursive(idlis_held, 0)\n",
        "\n",
        "if min_idlis == -1:\n",
        "  print(\"It's impossible to distribute idlis such that everyone has an even number.\")\n",
        "else:\n",
        "  print(f\"Minimum number of idlis to distribute: {min_idlis}\")"
      ],
      "metadata": {
        "colab": {
          "base_uri": "https://localhost:8080/"
        },
        "id": "oPau57G3LHmB",
        "outputId": "781dc680-31ab-46c7-8bd9-8650a3d2b001"
      },
      "execution_count": 51,
      "outputs": [
        {
          "output_type": "stream",
          "name": "stdout",
          "text": [
            "Minimum number of idlis to distribute: 4\n"
          ]
        }
      ]
    },
    {
      "cell_type": "code",
      "source": [
        "idlis_held = [0, 2, 2, 1]\n",
        "min_idlis = min_idlis_recursive(idlis_held, 0)\n",
        "\n",
        "if min_idlis == -1:\n",
        "  print(\"It's impossible to distribute idlis such that everyone has an even number.\")\n",
        "else:\n",
        "  print(f\"Minimum number of idlis to distribute: {min_idlis}\")\n"
      ],
      "metadata": {
        "colab": {
          "base_uri": "https://localhost:8080/"
        },
        "id": "zLircDnHLg74",
        "outputId": "c768c931-4519-4fea-b690-88ded0b15942"
      },
      "execution_count": 52,
      "outputs": [
        {
          "output_type": "stream",
          "name": "stdout",
          "text": [
            "It's impossible to distribute idlis such that everyone has an even number.\n"
          ]
        }
      ]
    }
  ]
}
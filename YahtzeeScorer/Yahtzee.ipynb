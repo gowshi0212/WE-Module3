{
  "nbformat": 4,
  "nbformat_minor": 0,
  "metadata": {
    "colab": {
      "provenance": []
    },
    "kernelspec": {
      "name": "python3",
      "display_name": "Python 3"
    },
    "language_info": {
      "name": "python"
    }
  },
  "cells": [
    {
      "cell_type": "code",
      "source": [
        "import random\n",
        "\n",
        "def count_dice_frequencies(dice: list[int]) -> dict[int, int]:\n",
        "  \"\"\"Counts the frequency of each dice value in a roll.\n",
        "\n",
        "  Args:\n",
        "      dice: A list of 5 integers representing the dice roll.\n",
        "\n",
        "  Returns:\n",
        "      A dictionary mapping each dice value to its frequency (number of times it appeared).\n",
        "  \"\"\"\n",
        "  if not dice:\n",
        "    raise ValueError(\"Dice list cannot be empty\")\n",
        "  return {d: dice.count(d) for d in set(dice)}\n",
        "\n",
        "def score_upper_section(dice_value: int, dice_counts: dict[int, int]) -> int:\n",
        "  \"\"\"Calculates the score for an upper section category (Aces, Twos, etc.).\n",
        "\n",
        "  Args:\n",
        "      dice_value: The value of the dice to score (e.g., 1 for Aces, 2 for Twos).\n",
        "      dice_counts: A dictionary mapping each dice value to its frequency.\n",
        "\n",
        "  Returns:\n",
        "      The score for the upper section category.\n",
        "  \"\"\"\n",
        "  return dice_counts.get(dice_value, 0) * dice_value\n",
        "\n",
        "def calculate_upper_section_score(dice: list[int]) -> dict[str, int]:\n",
        "  \"\"\"Calculates the score for each category in the upper section.\n",
        "\n",
        "  Args:\n",
        "      dice: A list of 5 integers representing the dice roll.\n",
        "\n",
        "  Returns:\n",
        "      A dictionary containing the score for each upper section category (\"Aces\", \"Twos\", etc.).\n",
        "  \"\"\"\n",
        "  dice_counts = count_dice_frequencies(dice)\n",
        "  scores = {\n",
        "      \"Aces\": score_upper_section(1, dice_counts),\n",
        "      \"Twos\": score_upper_section(2, dice_counts),\n",
        "      \"Threes\": score_upper_section(3, dice_counts),\n",
        "      \"Fours\": score_upper_section(4, dice_counts),\n",
        "      \"Fives\": score_upper_section(5, dice_counts),\n",
        "      \"Sixes\": score_upper_section(6, dice_counts),\n",
        "  }\n",
        "  return scores\n",
        "\n",
        "def is_straight(dice: list[int], sequence_length: int) -> bool:\n",
        "  \"\"\"Checks if the dice form a straight of a given length.\n",
        "\n",
        "  Args:\n",
        "      dice: A list of 5 integers representing the dice roll (sorted).\n",
        "      sequence_length: The length of the straight to check for (e.g., 4 for small straight, 5 for large straight).\n",
        "\n",
        "  Returns:\n",
        "      True if the dice form a straight, False otherwise.\n",
        "  \"\"\"\n",
        "  return all(dice[i + 1] - dice[i] == 1 for i in range(sequence_length - 1))\n",
        "\n",
        "def calculate_lower_section_score(dice: list[int]) -> dict[str, int]:\n",
        "  \"\"\"Calculates the score for each category in the lower section.\n",
        "\n",
        "  Args:\n",
        "      dice: A list of 5 integers representing the dice roll.\n",
        "\n",
        "  Returns:\n",
        "      A dictionary containing the score for each lower section category (\"Three of a Kind\", etc.).\n",
        "  \"\"\"\n",
        "  if not dice:\n",
        "    raise ValueError(\"Dice list cannot be empty\")\n",
        "  sorted_dice = sorted(dice)\n",
        "  dice_counts = count_dice_frequencies(dice)\n",
        "  scores = {\n",
        "      \"Three of a Kind\": sum(dice) if any(count >= 3 for count in dice_counts.values()) else 0,\n",
        "      \"Four of a Kind\": sum(dice) if any(count >= 4 for count in dice_counts.values()) else 0,\n",
        "      \"Full House\": 25 if (3 in dice_counts.values() and 2 in dice_counts.values()) else 0,\n",
        "      \"Small Straight\": 30 if is_straight(sorted_dice, 4) else 0,\n",
        "      \"Large Straight\": 40 if is_straight(sorted_dice, 5) else 0,\n",
        "      \"Yahtzee\": 50 if all(count == 1 for count in dice_counts.values()) else 0,\n",
        "      \"Chance\": sum(dice),\n",
        "  }\n",
        "  return scores\n",
        "\n",
        "# This function (calculate_bonus_and_total_score) is removed as it wasn't relevant\n",
        "\n",
        "# Example usage (assuming you have a dice roll in the 'dice' variable)\n",
        "\n",
        "\n"
      ],
      "metadata": {
        "id": "ANs16I41gYT2"
      },
      "execution_count": 14,
      "outputs": []
    },
    {
      "cell_type": "code",
      "source": [
        "#Testcase1\n",
        "dice = [1, 2, 3, 4, 5]\n",
        "expected_lower_scores= {'Three of a Kind': 0, 'Four of a Kind': 0, 'Full House': 0, 'Small Straight': 30, 'Large Straight': 40, 'Yahtzee': 50, 'Chance': 15}\n",
        "expected_upper_scores={'Aces': 1, 'Twos': 2, 'Threes': 3, 'Fours': 4, 'Fives': 5, 'Sixes': 0}\n",
        "lower_scores = calculate_lower_section_score(dice)\n",
        "upper_scores = calculate_upper_section_score(dice)\n",
        "print(lower_scores == expected_lower_scores)\n",
        "print(upper_scores == expected_upper_scores)\n",
        "print(lower_scores)\n",
        "print(upper_scores)"
      ],
      "metadata": {
        "colab": {
          "base_uri": "https://localhost:8080/"
        },
        "id": "mH879DCHgnIL",
        "outputId": "fbba021e-2d45-4281-85b4-0d25845abe4c"
      },
      "execution_count": 15,
      "outputs": [
        {
          "output_type": "stream",
          "name": "stdout",
          "text": [
            "True\n",
            "True\n",
            "{'Three of a Kind': 0, 'Four of a Kind': 0, 'Full House': 0, 'Small Straight': 30, 'Large Straight': 40, 'Yahtzee': 50, 'Chance': 15}\n",
            "{'Aces': 1, 'Twos': 2, 'Threes': 3, 'Fours': 4, 'Fives': 5, 'Sixes': 0}\n"
          ]
        }
      ]
    },
    {
      "cell_type": "code",
      "source": [
        "#Testcase2\n",
        "dice = [3, 3, 3, 4, 5]\n",
        "expected_lower_scores= {'Three of a Kind': 18, 'Four of a Kind': 0, 'Full House': 0, 'Small Straight': 0, 'Large Straight': 0, 'Yahtzee': 0, 'Chance': 18}\n",
        "expected_upper_scores={'Aces': 0, 'Twos': 0, 'Threes': 9, 'Fours': 4, 'Fives': 5, 'Sixes': 0}\n",
        "lower_scores = calculate_lower_section_score(dice)\n",
        "upper_scores = calculate_upper_section_score(dice)\n",
        "print(lower_scores == expected_lower_scores)\n",
        "print(upper_scores == expected_upper_scores)\n",
        "print(lower_scores)\n",
        "print(upper_scores)"
      ],
      "metadata": {
        "colab": {
          "base_uri": "https://localhost:8080/"
        },
        "id": "xQdhRhpqiC_I",
        "outputId": "b6af7268-7e6c-4bfb-ba35-8114583f9b2e"
      },
      "execution_count": 13,
      "outputs": [
        {
          "output_type": "stream",
          "name": "stdout",
          "text": [
            "True\n",
            "True\n",
            "{'Three of a Kind': 18, 'Four of a Kind': 0, 'Full House': 0, 'Small Straight': 0, 'Large Straight': 0, 'Yahtzee': 0, 'Chance': 18}\n",
            "{'Aces': 0, 'Twos': 0, 'Threes': 9, 'Fours': 4, 'Fives': 5, 'Sixes': 0}\n"
          ]
        }
      ]
    },
    {
      "cell_type": "code",
      "source": [
        "#Testcase3\n",
        "dice = [2, 2, 2, 3, 3]\n",
        "expected_lower_scores= {'Three of a Kind': 12, 'Four of a Kind': 0, 'Full House': 25, 'Small Straight': 0, 'Large Straight': 0, 'Yahtzee': 0, 'Chance': 12}\n",
        "expected_upper_scores={'Aces': 0, 'Twos': 6, 'Threes': 6, 'Fours': 0, 'Fives': 0, 'Sixes': 0}\n",
        "lower_scores = calculate_lower_section_score(dice)\n",
        "upper_scores = calculate_upper_section_score(dice)\n",
        "print(lower_scores == expected_lower_scores)\n",
        "print(upper_scores == expected_upper_scores)\n",
        "print(lower_scores)\n",
        "print(upper_scores)"
      ],
      "metadata": {
        "colab": {
          "base_uri": "https://localhost:8080/"
        },
        "id": "e7dB8i5Nimrw",
        "outputId": "f708ba31-fc77-4344-e556-b3820ef47957"
      },
      "execution_count": 17,
      "outputs": [
        {
          "output_type": "stream",
          "name": "stdout",
          "text": [
            "True\n",
            "True\n",
            "{'Three of a Kind': 12, 'Four of a Kind': 0, 'Full House': 25, 'Small Straight': 0, 'Large Straight': 0, 'Yahtzee': 0, 'Chance': 12}\n",
            "{'Aces': 0, 'Twos': 6, 'Threes': 6, 'Fours': 0, 'Fives': 0, 'Sixes': 0}\n"
          ]
        }
      ]
    },
    {
      "cell_type": "code",
      "source": [
        "#Testcase4\n",
        "dice = [3, 3, 3, 3, 3]\n",
        "expected_lower_scores= {'Three of a Kind': 15, 'Four of a Kind': 15, 'Full House': 0, 'Small Straight': 0, 'Large Straight': 0, 'Yahtzee': 0, 'Chance': 15}\n",
        "expected_upper_scores={'Aces': 0, 'Twos': 0, 'Threes': 15, 'Fours': 0, 'Fives': 0, 'Sixes': 0}\n",
        "lower_scores = calculate_lower_section_score(dice)\n",
        "upper_scores = calculate_upper_section_score(dice)\n",
        "print(lower_scores == expected_lower_scores)\n",
        "print(upper_scores == expected_upper_scores)\n",
        "print(lower_scores)\n",
        "print(upper_scores)"
      ],
      "metadata": {
        "colab": {
          "base_uri": "https://localhost:8080/"
        },
        "id": "8okZLZTAi332",
        "outputId": "5e5680d2-ac0a-4a70-8b1b-4a419e773c1d"
      },
      "execution_count": 20,
      "outputs": [
        {
          "output_type": "stream",
          "name": "stdout",
          "text": [
            "True\n",
            "True\n",
            "{'Three of a Kind': 15, 'Four of a Kind': 15, 'Full House': 0, 'Small Straight': 0, 'Large Straight': 0, 'Yahtzee': 0, 'Chance': 15}\n",
            "{'Aces': 0, 'Twos': 0, 'Threes': 15, 'Fours': 0, 'Fives': 0, 'Sixes': 0}\n"
          ]
        }
      ]
    }
  ]
}